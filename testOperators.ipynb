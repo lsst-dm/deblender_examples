{
 "cells": [
  {
   "cell_type": "markdown",
   "metadata": {},
   "source": [
    "# Test Symmetry and Monotonicity Operators\n",
    "\n",
    "These will eventually become tests in meas_deblender, but for now we use them just to ensure that our operators are working properly"
   ]
  },
  {
   "cell_type": "code",
   "execution_count": 1,
   "metadata": {
    "collapsed": false
   },
   "outputs": [],
   "source": [
    "from __future__ import print_function, division\n",
    "import os\n",
    "from collections import OrderedDict\n",
    "import logging\n",
    "\n",
    "import numpy as np\n",
    "\n",
    "%matplotlib inline\n",
    "import matplotlib\n",
    "import matplotlib.pyplot as plt\n",
    "# Make the plots look pretty\n",
    "matplotlib.rc('font',size=13)\n",
    "matplotlib.rc('legend', numpoints=1)\n",
    "matplotlib.rc('image', cmap='inferno')\n",
    "matplotlib.rc('image', interpolation='none')\n",
    "# Use the same color cylcer as Seaborn\n",
    "from cycler import cycler\n",
    "color_cycle = [u'#4c72b0', u'#55a868', u'#c44e52', u'#8172b2', u'#ccb974', u'#64b5cd']\n",
    "matplotlib.rcParams['axes.prop_cycle'] = cycler(\"color\", color_cycle)\n",
    "\n",
    "import lsst.afw.table as afwTable\n",
    "import lsst.log as log\n",
    "import lsst.meas.deblender\n",
    "from lsst.meas.deblender import proximal, proximal_nmf\n",
    "import lsst.meas.deblender.utils as debUtils\n",
    "\n",
    "logger = logging.getLogger(\"lsst.meas.deblender\")\n",
    "logger.setLevel(logging.INFO)\n",
    "log.setLevel(\"\", log.INFO)"
   ]
  },
  {
   "cell_type": "markdown",
   "metadata": {},
   "source": [
    "# Numerically show that the symmetry operator is working as expected\n",
    "\n",
    "This cell tests the symmetry operator on rectangular (non-square) matrices with the peak in different quadrants, verifying that the symmetry operator is working correctly on all of them"
   ]
  },
  {
   "cell_type": "code",
   "execution_count": 11,
   "metadata": {
    "collapsed": false
   },
   "outputs": [
    {
     "name": "stdout",
     "output_type": "stream",
     "text": [
      "1000 loops, best of 3: 1.17 ms per loop\n"
     ]
    }
   ],
   "source": [
    "import scipy.sparse\n",
    "def getSymmetryOp(shape):\n",
    "    \"\"\"Create a linear operator to symmetrize an image\n",
    "    \n",
    "    Given the ``shape`` of an image, create a linear operator that\n",
    "    acts on the flattened image to return its symmetric version.\n",
    "    \"\"\"\n",
    "    size = shape[0]*shape[1]\n",
    "    idx = np.arange(shape[0]*shape[1])\n",
    "    sidx = idx[::-1]\n",
    "    symmetryOp = scipy.sparse.identity(size)-scipy.sparse.coo_matrix((np.ones(size),(idx, sidx)), shape=(size,size))\n",
    "    \n",
    "    return symmetryOp\n",
    "\n",
    "shape = (101,101)\n",
    "size = shape[0]*shape[1]\n",
    "\n",
    "%timeit getSymmetryOp(shape)"
   ]
  },
  {
   "cell_type": "code",
   "execution_count": 14,
   "metadata": {
    "collapsed": false
   },
   "outputs": [
    {
     "name": "stdout",
     "output_type": "stream",
     "text": [
      "100 loops, best of 3: 5.15 ms per loop\n"
     ]
    }
   ],
   "source": [
    "%timeit proximal_nmf.getRadialMonotonicOp(shape, 50, 50)"
   ]
  },
  {
   "cell_type": "code",
   "execution_count": 25,
   "metadata": {
    "collapsed": false
   },
   "outputs": [
    {
     "data": {
      "text/plain": [
       "2"
      ]
     },
     "execution_count": 25,
     "metadata": {},
     "output_type": "execute_result"
    }
   ],
   "source": [
    "int(5/2)"
   ]
  },
  {
   "cell_type": "code",
   "execution_count": 35,
   "metadata": {
    "collapsed": false
   },
   "outputs": [
    {
     "name": "stdout",
     "output_type": "stream",
     "text": [
      "[[ 0.  0.  0.  0.  0.  0.  0.]\n",
      " [ 0.  0.  0.  1.  0.  0.  0.]\n",
      " [ 0.  0.  0.  0.  0.  0.  0.]]\n",
      "[[ 0.  0.  0.  0.  0.  0.  0.]\n",
      " [ 0.  0.  0.  1.  0.  0.  0.]\n",
      " [ 0.  0.  0.  0.  0.  0.  0.]]\n"
     ]
    }
   ],
   "source": [
    "def init_S(N, M, K, peaks=None, data=None):\n",
    "    cx, cy = int(M/2), int(N/2)\n",
    "    S = np.zeros((K, N*M))\n",
    "    if data is None or peaks is None:\n",
    "        S[:,cy*M+cx] = 1\n",
    "    else:\n",
    "        tiny = 1e-10\n",
    "        for pk, (px,py) in enumerate(peaks):\n",
    "            S[pk, cy*M+cx] = np.abs(data[:,py,px].mean()) + tiny\n",
    "    return S\n",
    "\n",
    "shape = (3,7)\n",
    "s = np.zeros((shape[0], shape[1]))\n",
    "s[1,3] = 1\n",
    "print(s)\n",
    "print(init_S(shape[0],shape[1],2)[1].reshape(shape))"
   ]
  },
  {
   "cell_type": "code",
   "execution_count": null,
   "metadata": {
    "collapsed": true
   },
   "outputs": [],
   "source": []
  },
  {
   "cell_type": "code",
   "execution_count": null,
   "metadata": {
    "collapsed": true
   },
   "outputs": [],
   "source": []
  },
  {
   "cell_type": "code",
   "execution_count": null,
   "metadata": {
    "collapsed": true
   },
   "outputs": [],
   "source": []
  },
  {
   "cell_type": "code",
   "execution_count": null,
   "metadata": {
    "collapsed": true
   },
   "outputs": [],
   "source": []
  },
  {
   "cell_type": "code",
   "execution_count": null,
   "metadata": {
    "collapsed": true
   },
   "outputs": [],
   "source": []
  },
  {
   "cell_type": "code",
   "execution_count": 2,
   "metadata": {
    "collapsed": false,
    "scrolled": false
   },
   "outputs": [
    {
     "name": "stdout",
     "output_type": "stream",
     "text": [
      "template\n",
      " [[  1.   2.   3.   1.   1.]\n",
      " [  5.   6.   7.   1.   1.]\n",
      " [  9.  10.  11.   1.   1.]\n",
      " [  1.   1.   1.   1.   1.]]\n",
      "symmetric template\n",
      " [[ 11.  10.   9.   0.   0.]\n",
      " [  7.   6.   5.   0.   0.]\n",
      " [  3.   2.   1.   0.   0.]\n",
      " [  0.   0.   0.   0.   0.]]\n",
      "template\n",
      " [[  1.   1.   1.   1.   1.]\n",
      " [  1.   1.   1.   2.   3.]\n",
      " [  1.   1.   5.   6.   7.]\n",
      " [  1.   1.   9.  10.  11.]]\n",
      "symmetric template\n",
      " [[ -1.  -1.  -1.  -1.  -1.]\n",
      " [ -1.  -1.  11.  10.   9.]\n",
      " [ -1.  -1.   7.   6.   5.]\n",
      " [ -1.  -1.   3.   2.   1.]]\n",
      "template\n",
      " [[  1.   1.   1.   1.   1.]\n",
      " [  1.   2.   3.   1.   1.]\n",
      " [  5.   6.   7.   1.   1.]\n",
      " [  9.  10.  11.   1.   1.]]\n",
      "symmetric template\n",
      " [[ -2.  -2.  -2.  -2.  -2.]\n",
      " [ 11.  10.   9.  -2.  -2.]\n",
      " [  7.   6.   5.  -2.  -2.]\n",
      " [  3.   2.   1.  -2.  -2.]]\n",
      "template\n",
      " [[  1.   1.   1.   2.   3.]\n",
      " [  1.   1.   5.   6.   7.]\n",
      " [  1.   1.   9.  10.  11.]\n",
      " [  1.   1.   1.   1.   1.]]\n",
      "symmetric template\n",
      " [[  0.   0.  11.  10.   9.]\n",
      " [  0.   0.   7.   6.   5.]\n",
      " [  0.   0.   3.   2.   1.]\n",
      " [  0.   0.   0.   0.   0.]]\n",
      "template\n",
      " [[  1.   2.   3.   1.   1.]\n",
      " [  5.   6.   7.   1.   1.]\n",
      " [  9.  10.  11.   1.   1.]\n",
      " [  1.   1.   1.   1.   1.]\n",
      " [  1.   1.   1.   1.   1.]]\n",
      "symmetric template\n",
      " [[  1.   1.   1.   1.   1.]\n",
      " [  1.   1.   1.   1.   1.]\n",
      " [  1.   1.  11.  10.   9.]\n",
      " [  1.   1.   7.   6.   5.]\n",
      " [  1.   1.   3.   2.   1.]]\n"
     ]
    },
    {
     "data": {
      "text/plain": [
       "array([[  1.,   1.,   1.,   1.,   1.],\n",
       "       [  1.,   1.,   1.,   1.,   1.],\n",
       "       [  1.,   1.,  11.,  10.,   9.],\n",
       "       [  1.,   1.,   7.,   6.,   5.],\n",
       "       [  1.,   1.,   3.,   2.,   1.]])"
      ]
     },
     "execution_count": 2,
     "metadata": {},
     "output_type": "execute_result"
    }
   ],
   "source": [
    "# This is just a visual sanity check\n",
    "# The cells that follow are a more numerical check\n",
    "def testSym(xslice, yslice, px, py, shape=(4,5), fillValue=0):\n",
    "    x = np.ones(shape)\n",
    "    x[yslice,xslice] = [[1,2,3],[5,6,7],[9,10,11]]\n",
    "    symmetryOp = proximal_nmf.getPeakSymmetry(shape, px, py, fillValue)\n",
    "    print('template\\n', x)\n",
    "    result = symmetryOp.dot(x.flatten()).reshape(x.shape)\n",
    "    print('symmetric template\\n', result)\n",
    "    return result\n",
    "\n",
    "result = testSym(slice(None,3),slice(None,3),1,1)\n",
    "testSym(slice(-3,None),slice(-3, None),3,2, fillValue=-1)\n",
    "testSym(slice(None,3),slice(-3,None),1,2, fillValue=-2)\n",
    "testSym(slice(-3,None),slice(None,3),3,1)\n",
    "testSym(slice(None,3),slice(None,3),2,2, shape=(5,5))"
   ]
  },
  {
   "cell_type": "markdown",
   "metadata": {},
   "source": [
    "# Test the symmetry operator on a 2D Gaussian matrix\n",
    "\n",
    "Place the peak in each quadrant and ensure that the symmetry difference operator, the difference between the original and symmetric image, is ~zero."
   ]
  },
  {
   "cell_type": "code",
   "execution_count": 3,
   "metadata": {
    "collapsed": true
   },
   "outputs": [],
   "source": [
    "def gaussian2D(x, y, x0=0, y0=0, A=1, sigma=0.25):\n",
    "    return A*np.exp(-0.5*((x-x0)**2+(y-y0)**2)/sigma)\n",
    "\n",
    "def testSym(symmetricPatch, xslice, yslice, px, py, shape, zeros=True, fillValue=0):\n",
    "    # Offset the symmetric patch depending on the shape of the image and position of the peak\n",
    "    width = symmetricPatch.shape[0]\n",
    "    if zeros:\n",
    "        img = np.zeros(shape)\n",
    "    else:\n",
    "        img = 0.5*np.ones(shape)\n",
    "    img[yslice, xslice] = symmetricPatch\n",
    "    plt.imshow(img)\n",
    "    plt.title(\"Original\")\n",
    "    plt.axis('off')\n",
    "    plt.show()\n",
    "    # Create a symmetry operator for the image\n",
    "    symOp = proximal_nmf.getPeakSymmetry(img.shape, px, py, fillValue)\n",
    "    imgSym = symOp.dot(img.flatten()).reshape(img.shape)\n",
    "    plt.imshow(imgSym)\n",
    "    plt.title(\"Symmetric\")\n",
    "    plt.axis('off')\n",
    "    plt.show()\n",
    "    # Create the symmetry difference operator: (1-symmetryOp)\n",
    "    diffOp = proximal_nmf.getPeakSymmetryOp(img.shape, px, py, fillValue)\n",
    "    diff = diffOp.dot(img.flatten())\n",
    "    logger.info(\"Max difference: {0}\".format(np.max(diff)))\n",
    "    logger.info(\"Min difference: {0}\".format(np.min(diff)))\n",
    "    return np.max(diff), img, imgSym, diff"
   ]
  },
  {
   "cell_type": "code",
   "execution_count": 4,
   "metadata": {
    "collapsed": false,
    "scrolled": false
   },
   "outputs": [
    {
     "data": {
      "image/png": "[encoded data removed]",
      "text/plain": [
       "<matplotlib.figure.Figure at 0x1112bba50>"
      ]
     },
     "metadata": {},
     "output_type": "display_data"
    },
    {
     "data": {
      "image/png": "[encoded data removed]",
      "text/plain": [
       "<matplotlib.figure.Figure at 0x112a4cfd0>"
      ]
     },
     "metadata": {},
     "output_type": "display_data"
    },
    {
     "name": "stderr",
     "output_type": "stream",
     "text": [
      "INFO:lsst.meas.deblender:Max difference: 2.77555756156e-16\n",
      "INFO:lsst.meas.deblender:Min difference: -2.77555756156e-16\n"
     ]
    },
    {
     "data": {
      "image/png": "[encoded data removed]",
      "text/plain": [
       "<matplotlib.figure.Figure at 0x11229a350>"
      ]
     },
     "metadata": {},
     "output_type": "display_data"
    },
    {
     "data": {
      "image/png": "[encoded data removed]",
      "text/plain": [
       "<matplotlib.figure.Figure at 0x1130c2f50>"
      ]
     },
     "metadata": {},
     "output_type": "display_data"
    },
    {
     "name": "stderr",
     "output_type": "stream",
     "text": [
      "INFO:lsst.meas.deblender:Max difference: 2.77555756156e-16\n",
      "INFO:lsst.meas.deblender:Min difference: -1.0\n"
     ]
    },
    {
     "data": {
      "image/png": "[encoded data removed]",
      "text/plain": [
       "<matplotlib.figure.Figure at 0x112b05f10>"
      ]
     },
     "metadata": {},
     "output_type": "display_data"
    },
    {
     "data": {
      "image/png": "[encoded data removed]",
      "text/plain": [
       "<matplotlib.figure.Figure at 0x113671710>"
      ]
     },
     "metadata": {},
     "output_type": "display_data"
    },
    {
     "name": "stderr",
     "output_type": "stream",
     "text": [
      "INFO:lsst.meas.deblender:Max difference: 2.77555756156e-16\n",
      "INFO:lsst.meas.deblender:Min difference: -2.77555756156e-16\n"
     ]
    },
    {
     "data": {
      "image/png": "[encoded data removed]",
      "text/plain": [
       "<matplotlib.figure.Figure at 0x1130c2e90>"
      ]
     },
     "metadata": {},
     "output_type": "display_data"
    },
    {
     "data": {
      "image/png": "[encoded data removed]",
      "text/plain": [
       "<matplotlib.figure.Figure at 0x113ca18d0>"
      ]
     },
     "metadata": {},
     "output_type": "display_data"
    },
    {
     "name": "stderr",
     "output_type": "stream",
     "text": [
      "INFO:lsst.meas.deblender:Max difference: 2.77555756156e-16\n",
      "INFO:lsst.meas.deblender:Min difference: -2.77555756156e-16\n"
     ]
    },
    {
     "data": {
      "image/png": "[encoded data removed]",
      "text/plain": [
       "<matplotlib.figure.Figure at 0x1139c1850>"
      ]
     },
     "metadata": {},
     "output_type": "display_data"
    },
    {
     "data": {
      "image/png": "[encoded data removed]",
      "text/plain": [
       "<matplotlib.figure.Figure at 0x1142e6cd0>"
      ]
     },
     "metadata": {},
     "output_type": "display_data"
    },
    {
     "name": "stderr",
     "output_type": "stream",
     "text": [
      "INFO:lsst.meas.deblender:Max difference: 2.77555756156e-16\n",
      "INFO:lsst.meas.deblender:Min difference: -2.77555756156e-16\n"
     ]
    }
   ],
   "source": [
    "# Create the Gaussian to use for the test\n",
    "x = np.linspace(-1,1,7)\n",
    "y = np.linspace(-1,1,7)\n",
    "X,Y = np.meshgrid(x,y)\n",
    "patch = gaussian2D(X, Y)\n",
    "width = x.shape[0]\n",
    "center = int(0.5*(width-1))\n",
    "shape = (width+2, width+6)\n",
    "cx, cy = (center, center)\n",
    "\n",
    "testSym(patch, slice(None, None), slice(None, None), cx, cy, (width, width));\n",
    "testSym(patch, slice(None, width), slice(None, width), cx, cy, shape, fillValue=3, zeros=False);\n",
    "testSym(patch, slice(-width, None), slice(None, width), shape[1]-cx-1, cy, shape);\n",
    "testSym(patch, slice(-width, None), slice(-width, None), shape[1]-cx-1, shape[0]-cy-1, shape);\n",
    "testSym(patch, slice(None, width), slice(-width, None), cx, shape[0]-cy-1, shape);"
   ]
  },
  {
   "cell_type": "markdown",
   "metadata": {},
   "source": [
    "# Test non-symmetric\n",
    "\n",
    "Next run the same test with a non-zero background, which will cause the original and symmetric images to have a difference of 0.5"
   ]
  },
  {
   "cell_type": "code",
   "execution_count": 5,
   "metadata": {
    "collapsed": false,
    "scrolled": false
   },
   "outputs": [
    {
     "data": {
      "image/png": "[encoded data removed]",
      "text/plain": [
       "<matplotlib.figure.Figure at 0x1112c0290>"
      ]
     },
     "metadata": {},
     "output_type": "display_data"
    },
    {
     "data": {
      "image/png": "[encoded data removed]",
      "text/plain": [
       "<matplotlib.figure.Figure at 0x113f5d7d0>"
      ]
     },
     "metadata": {},
     "output_type": "display_data"
    },
    {
     "name": "stderr",
     "output_type": "stream",
     "text": [
      "INFO:lsst.meas.deblender:Max difference: 0.5\n",
      "INFO:lsst.meas.deblender:Min difference: -2.77555756156e-16\n"
     ]
    },
    {
     "data": {
      "image/png": "[encoded data removed]",
      "text/plain": [
       "<matplotlib.figure.Figure at 0x1112c0250>"
      ]
     },
     "metadata": {},
     "output_type": "display_data"
    },
    {
     "data": {
      "image/png": "[encoded data removed]",
      "text/plain": [
       "<matplotlib.figure.Figure at 0x114013750>"
      ]
     },
     "metadata": {},
     "output_type": "display_data"
    },
    {
     "name": "stderr",
     "output_type": "stream",
     "text": [
      "INFO:lsst.meas.deblender:Max difference: 0.5\n",
      "INFO:lsst.meas.deblender:Min difference: -2.77555756156e-16\n"
     ]
    },
    {
     "data": {
      "image/png": "[encoded data removed]",
      "text/plain": [
       "<matplotlib.figure.Figure at 0x1112bbcd0>"
      ]
     },
     "metadata": {},
     "output_type": "display_data"
    },
    {
     "data": {
      "image/png": "[encoded data removed]",
      "text/plain": [
       "<matplotlib.figure.Figure at 0x113c7a750>"
      ]
     },
     "metadata": {},
     "output_type": "display_data"
    },
    {
     "name": "stderr",
     "output_type": "stream",
     "text": [
      "INFO:lsst.meas.deblender:Max difference: 0.5\n",
      "INFO:lsst.meas.deblender:Min difference: -2.77555756156e-16\n"
     ]
    },
    {
     "data": {
      "image/png": "[encoded data removed]",
      "text/plain": [
       "<matplotlib.figure.Figure at 0x112a6bb90>"
      ]
     },
     "metadata": {},
     "output_type": "display_data"
    },
    {
     "data": {
      "image/png": "[encoded data removed]",
      "text/plain": [
       "<matplotlib.figure.Figure at 0x112e36f50>"
      ]
     },
     "metadata": {},
     "output_type": "display_data"
    },
    {
     "name": "stderr",
     "output_type": "stream",
     "text": [
      "INFO:lsst.meas.deblender:Max difference: 0.5\n",
      "INFO:lsst.meas.deblender:Min difference: -2.77555756156e-16\n"
     ]
    }
   ],
   "source": [
    "testSym(patch, slice(None, width), slice(None, width), cx, cy, shape, zeros=False);\n",
    "testSym(patch, slice(-width, None), slice(None, width), shape[1]-cx-1, cy, shape, zeros=False);\n",
    "testSym(patch, slice(-width, None), slice(-width, None), shape[1]-cx-1, shape[0]-cy-1, shape, zeros=False);\n",
    "testSym(patch, slice(None, width), slice(-width, None), cx, shape[0]-cy-1, shape, zeros=False);"
   ]
  },
  {
   "cell_type": "code",
   "execution_count": 5,
   "metadata": {
    "collapsed": false
   },
   "outputs": [],
   "source": [
    "def testMonotonic(shape, px, py):\n",
    "    # Create a pyramid with shape ``shape``, centered on the image\n",
    "    x = np.linspace(-1,1, shape[1])\n",
    "    y = np.linspace(-1,1, shape[0])\n",
    "    cx = shape[1]//2\n",
    "    cy = shape[0]//2\n",
    "    X,Y = np.meshgrid(x,y)\n",
    "    pyramid = np.zeros(shape)\n",
    "    pyramid[:cy+1, :cx+1] = (X+Y)[:cy+1, :cx+1]\n",
    "    pyramid[:cy+1, cx+1:] = (Y-X)[:cy+1, cx+1:]\n",
    "    pyramid[cy+1:, :cx+1] = (X-Y)[cy+1:, :cx+1]\n",
    "    pyramid[cy+1:, cx+1:] = (-X-Y)[cy+1:, cx+1:]\n",
    "    pyramid -= np.min(pyramid)\n",
    "    plt.imshow(pyramid)\n",
    "    plt.title(\"Image\")\n",
    "    plt.show()\n",
    "    \n",
    "    # Get a monotonic operator centered on peakX, peakY\n",
    "    px = shape[1]//2\n",
    "    py = shape[0]//2\n",
    "    monotonic = proximal_nmf.getRadialMonotonicOp(shape, px, py)\n",
    "    # Show the gradient\n",
    "    grad = monotonic.dot(pyramid.flatten())\n",
    "    plt.imshow(grad.reshape(shape))\n",
    "    plt.title(\"Radial Gradient\")\n",
    "    plt.show()\n",
    "    # Get the non-monotonic pixels\n",
    "    badGrad = np.zeros(pyramid.size)\n",
    "    badGrad[grad<0] = 1\n",
    "    plt.imshow(badGrad.reshape(shape))\n",
    "    plt.title(\"Non-Monotonic Pixels\")\n",
    "    plt.show()\n",
    "    # Test that every pixels is used\n",
    "    height, width = shape\n",
    "    logger.info(\"Pixels not used: {0}\".format(np.trace(monotonic.toarray())+height*width-1))\n",
    "    # Test that each pixel is used as a reference at least once\n",
    "    indices = np.arange(height*width)\n",
    "    edges = ((np.mod(indices, width)==0) | \n",
    "             (indices<width) | \n",
    "             (indices>=width*(height-1)) | \n",
    "             (np.mod(indices, width)==width-1))\n",
    "    references = np.sum(monotonic.toarray(), axis=0)[~edges]\n",
    "    logger.info(\"Pixels not used as a reference: {0}\".format(np.sum(references<0)))"
   ]
  },
  {
   "cell_type": "code",
   "execution_count": 6,
   "metadata": {
    "collapsed": false,
    "scrolled": false
   },
   "outputs": [
    {
     "data": {
      "image/png": "[encoded data removed]",
      "text/plain": [
       "<matplotlib.figure.Figure at 0x114142510>"
      ]
     },
     "metadata": {},
     "output_type": "display_data"
    },
    {
     "data": {
      "image/png": "[encoded data removed]",
      "text/plain": [
       "<matplotlib.figure.Figure at 0x1113f24d0>"
      ]
     },
     "metadata": {},
     "output_type": "display_data"
    },
    {
     "data": {
      "image/png": "[encoded data removed]",
      "text/plain": [
       "<matplotlib.figure.Figure at 0x1141dbed0>"
      ]
     },
     "metadata": {},
     "output_type": "display_data"
    },
    {
     "name": "stderr",
     "output_type": "stream",
     "text": [
      "INFO:lsst.meas.deblender:Pixels not used: 1.0\n",
      "INFO:lsst.meas.deblender:Pixels not used as a reference: 0\n"
     ]
    }
   ],
   "source": [
    "#testMonotonic(shape=(7,7), px=3, py=3)\n",
    "#testMonotonic(shape=(11,7), px=3, py=5)\n",
    "testMonotonic(shape=(7,11), px=5, py=3)"
   ]
  },
  {
   "cell_type": "markdown",
   "metadata": {},
   "source": [
    "# Test the monotonicity operator centered at a point other than the peak\n",
    "\n",
    "This shows errors in the radial gradiant, with multiple non-monotonic pixels"
   ]
  },
  {
   "cell_type": "code",
   "execution_count": 4,
   "metadata": {
    "collapsed": false,
    "scrolled": false
   },
   "outputs": [
    {
     "data": {
      "image/png": "[encoded data removed]",
      "text/plain": [
       "<matplotlib.figure.Figure at 0x113238f10>"
      ]
     },
     "metadata": {},
     "output_type": "display_data"
    },
    {
     "data": {
      "image/png": "[encoded data removed]",
      "text/plain": [
       "<matplotlib.figure.Figure at 0x11356a5d0>"
      ]
     },
     "metadata": {},
     "output_type": "display_data"
    },
    {
     "data": {
      "image/png": "[encoded data removed]",
      "text/plain": [
       "<matplotlib.figure.Figure at 0x1136ecc90>"
      ]
     },
     "metadata": {},
     "output_type": "display_data"
    },
    {
     "name": "stderr",
     "output_type": "stream",
     "text": [
      "INFO:lsst.meas.deblender:Pixels not used: 1.0\n",
      "INFO:lsst.meas.deblender:Pixels not used as a reference: 0\n"
     ]
    }
   ],
   "source": [
    "testMonotonic(shape=(7,11), px=3, py=5)"
   ]
  },
  {
   "cell_type": "code",
   "execution_count": 9,
   "metadata": {
    "collapsed": false
   },
   "outputs": [],
   "source": [
    "def plotSparsePixels(arr, shape, useMask=True, vmin=None, vmax=None):\n",
    "    height, width = shape\n",
    "    if vmin is None:\n",
    "        vmin = np.min(arr)\n",
    "    if vmax is None:\n",
    "        vmax = np.max(arr)\n",
    "    d = np.ma.array(arr, mask=(arr==0))\n",
    "    plt.imshow(d, vmin=vmin, vmax=vmax)\n",
    "    plt.show()\n",
    "    \n",
    "    fig = plt.figure(figsize=(9,3))\n",
    "    for h in range(height):\n",
    "        for w in range(width):\n",
    "            pixel = h*width + w\n",
    "            ax = fig.add_subplot(height, width, pixel+1)\n",
    "            ax.imshow(d[pixel].reshape(shape), vmin=vmin, vmax=vmax)\n",
    "            ax.set_xticks([])\n",
    "            ax.set_yticks([])\n",
    "    plt.show()\n",
    "\n",
    "def getOffsets(width):\n",
    "    offsets = [-width-1, -width, -width+1, -1, 1, width-1, width, width+1]\n",
    "    slices = [slice(None, s) if s<0 else slice(s, None) for s in offsets]\n",
    "    slicesInv = [slice(-s, None) if s<0 else slice(None, -s) for s in offsets]\n",
    "    return offsets, slices, slicesInv\n",
    "\n",
    "def diagonalizeArray(arr, shape=None, dtype=np.float64):\n",
    "    \"\"\"Convert an array to a matrix that compares each pixel to its neighbors\n",
    "    \n",
    "    Given an array with length N, create an 8xN array, where each row will be a\n",
    "    diagonal in a diagonalized array.\n",
    "    \"\"\"\n",
    "    if shape is None:\n",
    "        height, width = arr.shape\n",
    "        data = arr.flatten()\n",
    "    elif len(arr.shape)==1:\n",
    "        height, width = shape\n",
    "        data = np.copy(arr)\n",
    "    else:\n",
    "        raise ValueError(\"Expected either a 2D array or a 1D array and a shape\")\n",
    "    size = width * height\n",
    "    \n",
    "    # We hard code 8 rows, since each row corresponds to a neighbor\n",
    "    # of each pixel.\n",
    "    diagonals = np.zeros((8, size), dtype=dtype)\n",
    "    mask = np.ones((8, size), dtype=bool)\n",
    "    offsets, slices, slicesInv = getOffsets(width)\n",
    "    for n, s in enumerate(slices):\n",
    "        diagonals[n][slicesInv[n]] = data[s]\n",
    "        mask[n][slicesInv[n]] = 0\n",
    "    \n",
    "    mask[0][np.arange(1,height)*width] = 1\n",
    "    mask[2][np.arange(height)*width-1] = 1\n",
    "    mask[3][np.arange(1,height)*width] = 1\n",
    "    mask[4][np.arange(1,height)*width-1] = 1\n",
    "    mask[5][np.arange(height)*width] = 1\n",
    "    mask[7][np.arange(1,height-1)*width-1] = 1\n",
    "    \n",
    "    return diagonals, mask\n",
    "\n",
    "def diagonalsToSparse(diagonals, shape, dtype=np.float64):\n",
    "    height, width = shape\n",
    "    offsets, slices, slicesInv = getOffsets(width)\n",
    "    diags = [diag[slicesInv[n]] for n, diag in enumerate(diagonals)]\n",
    "    \n",
    "    #diags[0][np.arange(1,height-1)*width-1] = 0\n",
    "    #diags[2][np.arange(height)*width] = 0\n",
    "    #diags[3][np.arange(1,height)*width-1] = 0\n",
    "    #diags[4][np.arange(1,height)*width-1] = 0\n",
    "    #diags[5][np.arange(height)*width] = 0\n",
    "    #diags[7][np.arange(1,height-1)*width-1] = 0\n",
    "    \n",
    "    diagonalArr = sparse.diags(diags, offsets, dtype=dtype)\n",
    "    return diagonalArr\n",
    "\n",
    "def getMonotonic(shape, px, py, display=True):\n",
    "    # Calculate the distance between each pixel and the peak\n",
    "    x = np.arange(shape[1])\n",
    "    y = np.arange(shape[0])\n",
    "    X,Y = np.meshgrid(x,y)\n",
    "    X = X - px\n",
    "    Y = Y - py\n",
    "    distance = np.sqrt(X**2+Y**2)\n",
    "    if display:\n",
    "        plt.figure(figsize=(3,3))\n",
    "        plt.imshow(distance+1, vmin=0, vmax=np.max(distance+1))\n",
    "        plt.show()\n",
    "    \n",
    "    # Find neighbors further from the peak\n",
    "    # (to remove them later)\n",
    "    distArr, mask = diagonalizeArray(distance, dtype=np.float64)\n",
    "    relativeDist = (distance.flatten()[:,None]-distArr.T).T\n",
    "    invalidPix = relativeDist<=0\n",
    "    \n",
    "    # Calculate the angle between each pixel and the x axis,\n",
    "    # relative to the peak position\n",
    "    inf = X==0\n",
    "    tX = X.copy()\n",
    "    tX[inf] = 1\n",
    "    angles = np.arctan2(-Y,-tX)\n",
    "    angles[inf&(Y!=0)] = 0.5*np.pi*np.sign(angles[inf&(Y!=0)])\n",
    "    \n",
    "    # Calcualte the angle between each pixel and it's neighbors\n",
    "    xArr, m = diagonalizeArray(X)\n",
    "    yArr, m = diagonalizeArray(Y)\n",
    "    dx = (xArr.T-X.flatten()[:, None]).T\n",
    "    dy = (yArr.T-Y.flatten()[:, None]).T\n",
    "    # Avoid dividing by zero, so we later reset these pixels\n",
    "    inf = dx==0\n",
    "    dx[inf] = 1\n",
    "    relativeAngles = np.arctan2(dy,dx)\n",
    "    relativeAngles[inf&(dy!=0)] = 0.5*np.pi*np.sign(relativeAngles[inf&(dy!=0)])\n",
    "    \n",
    "    # Find the difference between each pixels angle with the peak\n",
    "    # and the relative angles to its neighbors, and take the\n",
    "    # cos to find its neighbors weight\n",
    "    dAngles = (angles.flatten()[:, None]-relativeAngles.T).T\n",
    "    cosWeight = np.cos(dAngles)\n",
    "    cosWeight[invalidPix] = 0\n",
    "    cosWeight[mask] = 0\n",
    "    \n",
    "    # Test, this should work using only the point with the highest weight\n",
    "    nearest = np.argmax(cosWeight, axis=0)\n",
    "    nrange = np.arange(nearest.shape[0])\n",
    "    nidx = nearest+nrange*cosWeight.shape[0]\n",
    "    tempWeight = np.zeros(cosWeight.size)\n",
    "    tempWeight[nidx] = cosWeight.T.flatten()[nidx]\n",
    "    cosWeight = tempWeight.reshape(cosWeight.T.shape).T\n",
    "    \n",
    "    # Normalize the cos weights for each pixel\n",
    "    normalize = np.sum(cosWeight, axis=0)\n",
    "    normalize[normalize==0] = 1\n",
    "    cosNorm = (cosWeight.T/normalize[:,None]).T\n",
    "    cosNorm[mask] = 0\n",
    "    cosArr = diagonalsToSparse(cosNorm, shape)\n",
    "    \n",
    "    \"\"\"\n",
    "    # Use only the source with the smallest angle\n",
    "    nearest = np.ma.argmax(np.ma.array(cosNorm, mask=cosNorm==0), axis=0)\n",
    "    test = np.arange(nearest.shape[0])\n",
    "    nn = nearest+test*cosNorm.shape[0]\n",
    "    monotonic = np.zeros(cosNorm.size)\n",
    "    monotonic[nn] = cosNorm.T.flatten()[nn]\n",
    "    \n",
    "    print(cosNorm.shape)\n",
    "    nnn = 0\n",
    "    for n in range(len(nearest)):\n",
    "        print(n, nearest[n], cosNorm.T[n][nearest[n]], monotonic[nn[nnn]])\n",
    "        nnn += 1\n",
    "    \n",
    "    print(cosArr.shape, nearest.shape, nearest, nn)\n",
    "    print(monotonic)\n",
    "    \n",
    "    monotonic = monotonic.reshape(cosNorm.T.shape).T\n",
    "    \n",
    "    cosArr = diagonalsToSparse(monotonic, shape)\"\"\"\n",
    "    \n",
    "    diagonal = np.ones(size)\n",
    "    diagonal[px+py*shape[1]] = 0\n",
    "    monotonic = cosArr-sparse.diags(diagonal)\n",
    "    \n",
    "    return monotonic.todia()#, (cosWeight, relativeAngles, angles, dAngles, invalidPix, xArr, X, mask, normalize)"
   ]
  },
  {
   "cell_type": "code",
   "execution_count": 10,
   "metadata": {
    "collapsed": true
   },
   "outputs": [],
   "source": [
    "def plotSparsePixels(arr, shape, useMask=True, vmin=None, vmax=None):\n",
    "    \"\"\"Plot the monotonicity operator and the neighor values used for each reference pixel\n",
    "    \"\"\"\n",
    "    height, width = shape\n",
    "    if vmin is None:\n",
    "        vmin = np.min(arr)\n",
    "    if vmax is None:\n",
    "        vmax = np.max(arr)\n",
    "    d = np.ma.array(arr, mask=(arr==0))\n",
    "    plt.imshow(d, vmin=vmin, vmax=vmax)\n",
    "    plt.show()\n",
    "    \n",
    "    fig = plt.figure(figsize=(9,3))\n",
    "    for h in range(height):\n",
    "        for w in range(width):\n",
    "            pixel = h*width + w\n",
    "            ax = fig.add_subplot(height, width, pixel+1)\n",
    "            ax.imshow(d[pixel].reshape(shape), vmin=vmin, vmax=vmax)\n",
    "            ax.set_xticks([])\n",
    "            ax.set_yticks([])\n",
    "    plt.show()"
   ]
  },
  {
   "cell_type": "code",
   "execution_count": 11,
   "metadata": {
    "collapsed": false
   },
   "outputs": [
    {
     "data": {
      "image/png": "[encoded data removed]",
      "text/plain": [
       "<matplotlib.figure.Figure at 0x11365c350>"
      ]
     },
     "metadata": {},
     "output_type": "display_data"
    },
    {
     "data": {
      "image/png": "[encoded data removed]",
      "text/plain": [
       "<matplotlib.figure.Figure at 0x113c77190>"
      ]
     },
     "metadata": {},
     "output_type": "display_data"
    }
   ],
   "source": [
    "width = 7\n",
    "height = 5\n",
    "shape = (height, width)\n",
    "px = int((width-1)/2)\n",
    "py = int((height-1)/2)\n",
    "x = np.arange(shape[1])\n",
    "y = np.arange(shape[0])\n",
    "size = shape[0]*shape[1]\n",
    "X,Y = np.meshgrid(x,y)\n",
    "X = X - px\n",
    "Y = Y - py\n",
    "distance = np.sqrt(X**2+Y**2)\n",
    "mono = proximal_nmf.getRadialMonotonicOp(shape, px, py)\n",
    "#mono, debugs = getMonotonic(shape, px, py)\n",
    "#cosWeight, relativeAngles, angles, dAngles, invalid, xArr, X, mask, normalize = debugs\n",
    "plotSparsePixels(mono.toarray(), shape, vmin=0)"
   ]
  },
  {
   "cell_type": "markdown",
   "metadata": {},
   "source": [
    "# Test that an operator can be quickly built for a very large footprint"
   ]
  },
  {
   "cell_type": "code",
   "execution_count": 13,
   "metadata": {
    "collapsed": false
   },
   "outputs": [
    {
     "name": "stdout",
     "output_type": "stream",
     "text": [
      "1 loop, best of 3: 922 ms per loop\n"
     ]
    }
   ],
   "source": [
    "width = 1001\n",
    "height = 1001\n",
    "shape = (height, width)\n",
    "px = int((width-1)/2)\n",
    "py = int((height-1)/2)\n",
    "x = np.arange(shape[1])\n",
    "y = np.arange(shape[0])\n",
    "size = shape[0]*shape[1]\n",
    "X,Y = np.meshgrid(x,y)\n",
    "X = X - px\n",
    "Y = Y - py\n",
    "distance = np.sqrt(X**2+Y**2)\n",
    "%timeit mono = proximal_nmf.getRadialMonotonicOp(shape, px, py)"
   ]
  },
  {
   "cell_type": "code",
   "execution_count": null,
   "metadata": {
    "collapsed": true
   },
   "outputs": [],
   "source": []
  }
 ],
 "metadata": {
  "anaconda-cloud": {},
  "kernelspec": {
   "display_name": "Python [conda root]",
   "language": "python",
   "name": "conda-root-py"
  },
  "language_info": {
   "codemirror_mode": {
    "name": "ipython",
    "version": 2
   },
   "file_extension": ".py",
   "mimetype": "text/x-python",
   "name": "python",
   "nbconvert_exporter": "python",
   "pygments_lexer": "ipython2",
   "version": "2.7.12"
  }
 },
 "nbformat": 4,
 "nbformat_minor": 2
}
