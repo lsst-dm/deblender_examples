{
 "cells": [
  {
   "cell_type": "code",
   "execution_count": 1,
   "metadata": {
    "collapsed": true
   },
   "outputs": [],
   "source": [
    "# Import Packages and setup\n",
    "from __future__ import print_function, division\n",
    "import os\n",
    "from collections import OrderedDict\n",
    "import logging\n",
    "\n",
    "import numpy as np\n",
    "\n",
    "%matplotlib inline\n",
    "import matplotlib\n",
    "import matplotlib.pyplot as plt\n",
    "# Make the plots look pretty\n",
    "matplotlib.rc('font',size=13)\n",
    "matplotlib.rc('legend', numpoints=1)\n",
    "matplotlib.rc('image', cmap='inferno')\n",
    "matplotlib.rc('image', interpolation='none')\n",
    "# Use the same color cylcer as Seaborn\n",
    "from cycler import cycler\n",
    "color_cycle = [u'#4c72b0', u'#55a868', u'#c44e52', u'#8172b2', u'#ccb974', u'#64b5cd']\n",
    "matplotlib.rcParams['axes.prop_cycle'] = cycler(\"color\", color_cycle)\n",
    "\n",
    "import lsst.afw.table as afwTable\n",
    "from lsst.utils import getPackageDir\n",
    "import lsst.log as log\n",
    "import lsst.meas.deblender\n",
    "from lsst.meas.deblender import proximal, display, sim, baseline\n",
    "import lsst.meas.deblender.utils as debUtils\n",
    "\n",
    "logger = logging.getLogger(\"lsst.meas.deblender\")\n",
    "logger.setLevel(logging.INFO)\n",
    "log.setLevel(\"\", log.INFO)\n",
    "plogger = logging.getLogger(\"proxmin\")\n",
    "plogger.setLevel(logging.INFO)"
   ]
  },
  {
   "cell_type": "code",
   "execution_count": 2,
   "metadata": {},
   "outputs": [
    {
     "name": "stderr",
     "output_type": "stream",
     "text": [
      "INFO:lsst.meas.deblender.proximal:Total parents: 9\n",
      "INFO:lsst.meas.deblender.proximal:Unblended sources: 4\n",
      "INFO:lsst.meas.deblender.proximal:Sources with multiple peaks: 5\n",
      "WARNING:lsst.meas.deblender.proximal:Using incorrect fored PSF information\n"
     ]
    }
   ],
   "source": [
    "# Load the data\n",
    "dataPath = os.path.abspath(os.path.join(lsst.utils.getPackageDir(\"testdata_deblender\"), 'sim_data'))\n",
    "filters = [\"u\", \"g\", \"r\", \"i\", \"z\", 'y']\n",
    "imgFilename = os.path.join(dataPath, \"test1/{0}_{1}.fits\")\n",
    "catFilename = os.path.join(dataPath, \"test1/det_merge.fits\")\n",
    "simFilename = os.path.join(dataPath, \"test1/catalog_true.fits\")\n",
    "\n",
    "expDb = proximal.ExposureDeblend(filters, imgFilename, catFilename, simFilename, useExactPeaks=True)"
   ]
  },
  {
   "cell_type": "code",
   "execution_count": 3,
   "metadata": {
    "collapsed": true
   },
   "outputs": [],
   "source": [
    "config = None\n",
    "schema = afwTable.SourceTable.makeMinimalSchema()\n",
    "schema.addField(\"\", type=int, doc=)"
   ]
  },
  {
   "cell_type": "code",
   "execution_count": null,
   "metadata": {
    "collapsed": true
   },
   "outputs": [],
   "source": []
  }
 ],
 "metadata": {
  "kernelspec": {
   "display_name": "Python 3",
   "language": "python",
   "name": "python3"
  },
  "language_info": {
   "codemirror_mode": {
    "name": "ipython",
    "version": 3
   },
   "file_extension": ".py",
   "mimetype": "text/x-python",
   "name": "python",
   "nbconvert_exporter": "python",
   "pygments_lexer": "ipython3",
   "version": "3.5.3"
  }
 },
 "nbformat": 4,
 "nbformat_minor": 2
}
