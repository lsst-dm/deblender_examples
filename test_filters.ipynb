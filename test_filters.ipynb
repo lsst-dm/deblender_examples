{
 "cells": [
  {
   "cell_type": "code",
   "execution_count": 1,
   "metadata": {
    "collapsed": true
   },
   "outputs": [],
   "source": [
    "import numpy as np\n",
    "import scarlet"
   ]
  },
  {
   "cell_type": "raw",
   "metadata": {},
   "source": [
    "def init_gamma(shape, center_int):\n",
    "    Gamma = scarlet.transformations.GammaOp()\n",
    "    return Gamma._make_matrices(shape, center_int)\n",
    "\n",
    "def gamma_cached_test(gamma, test):\n",
    "    tx,tx_plus,tx_minus,ty,ty_plus,ty_minus,P = gamma\n",
    "    Tx = tx-.25*tx_plus\n",
    "    Ty = ty-.1*ty_plus\n",
    "    Tx.dot(Ty).dot(test.flatten()).reshape(test.shape)\n",
    "\n",
    "test = np.arange(1e4).reshape(100,100)\n",
    "%timeit gamma = init_gamma((1,*test.shape), [0,0])\n",
    "gamma = init_gamma((1,*test.shape), [0,0])\n",
    "%timeit gamma_cached_test(gamma, test)"
   ]
  },
  {
   "cell_type": "raw",
   "metadata": {},
   "source": [
    "def init_t(dy, dx):\n",
    "    t = scarlet.transformations.LinearTranslation(dy, dx)\n",
    "    return t\n",
    "\n",
    "test = np.arange(1e4).reshape(100,100)\n",
    "%timeit t = init_t(.1,.25)\n",
    "t = init_t(.1,.25)\n",
    "%timeit t.dot(test)"
   ]
  },
  {
   "cell_type": "code",
   "execution_count": 2,
   "metadata": {
    "collapsed": true
   },
   "outputs": [],
   "source": [
    "test = 0.5*np.ones((3,3))\n",
    "test[1,1] = 1\n",
    "test[0,0] = test[2,0] = test[0,2] = test[2,2] = 0"
   ]
  },
  {
   "cell_type": "code",
   "execution_count": 4,
   "metadata": {},
   "outputs": [
    {
     "name": "stdout",
     "output_type": "stream",
     "text": [
      "[[ 0.  1.  2.]\n",
      " [ 3.  4.  5.]\n",
      " [ 6.  7.  8.]]\n"
     ]
    }
   ],
   "source": [
    "dx = .25\n",
    "dy = .1\n",
    "test = np.arange(9, dtype=float).reshape(3,3)\n",
    "\n",
    "Gamma = scarlet.transformations.oldGammaOp()\n",
    "tx,tx_plus,tx_minus,ty,ty_plus,ty_minus,P = Gamma._make_matrices((1,*test.shape), [0,0])\n",
    "Txp = tx-dx*tx_plus\n",
    "Typ = ty-dy*ty_plus\n",
    "Txm = tx+dx*tx_minus\n",
    "Tym = ty+dy*ty_minus\n",
    "oldTx = np.array([\n",
    "    Txp.dot(Typ).dot(test.flatten()).reshape(test.shape),\n",
    "    Txp.dot(Tym).dot(test.flatten()).reshape(test.shape),\n",
    "    Txm.dot(Typ).dot(test.flatten()).reshape(test.shape),\n",
    "    Txm.dot(Tym).dot(test.flatten()).reshape(test.shape),\n",
    "    (Txp.dot(Typ)).T.dot(test.flatten()).reshape(test.shape),\n",
    "    Txp.T.dot(test.flatten()).reshape(test.shape),\n",
    "    Typ.T.dot(test.flatten()).reshape(test.shape),\n",
    "])\n",
    "print(test)"
   ]
  },
  {
   "cell_type": "code",
   "execution_count": 5,
   "metadata": {},
   "outputs": [
    {
     "name": "stdout",
     "output_type": "stream",
     "text": [
      "8.881784197e-16\n"
     ]
    }
   ],
   "source": [
    "ltpp = scarlet.transformations.LinearTranslation(dy, dx)\n",
    "ltpm = scarlet.transformations.LinearTranslation(-dy, dx)\n",
    "ltmp = scarlet.transformations.LinearTranslation(dy, -dx)\n",
    "ltmm = scarlet.transformations.LinearTranslation(-dy, -dx)\n",
    "ltx = scarlet.transformations.LinearTranslation(0, dx)\n",
    "lty = scarlet.transformations.LinearTranslation(dy, 0)\n",
    "newTx = np.array([\n",
    "    ltpp.dot(test),\n",
    "    ltpm.dot(test),\n",
    "    ltmp.dot(test),\n",
    "    ltmm.dot(test),\n",
    "    ltpp.T.dot(test),\n",
    "    ltx.T.dot(test),\n",
    "    lty.T.dot(test)\n",
    "])\n",
    "print(np.max(oldTx-newTx))\n",
    "\n",
    "#for n in range(len(oldTx)):\n",
    "#    print(np.max(oldTx[n]-newTx[n]))"
   ]
  },
  {
   "cell_type": "code",
   "execution_count": 60,
   "metadata": {
    "collapsed": true
   },
   "outputs": [],
   "source": [
    "def gauss2d(x, y, sigma_x=.3, sigma_y=.5):\n",
    "    return np.exp(-(x/sigma_x)**2-(y/sigma_y)**2)\n",
    "\n",
    "x = np.linspace(-1,1,41)\n",
    "y = np.linspace(-1,1,41)\n",
    "x,y = np.meshgrid(x,y)\n",
    "psf = gauss2d(x, y)"
   ]
  },
  {
   "cell_type": "code",
   "execution_count": 61,
   "metadata": {},
   "outputs": [
    {
     "data": {
      "image/png": "[encoded data removed]",
      "text/plain": [
       "<matplotlib.figure.Figure at 0x11840e358>"
      ]
     },
     "metadata": {},
     "output_type": "display_data"
    }
   ],
   "source": [
    "import matplotlib.pyplot as plt\n",
    "plt.imshow(psf)\n",
    "plt.show()"
   ]
  },
  {
   "cell_type": "code",
   "execution_count": 62,
   "metadata": {
    "collapsed": true
   },
   "outputs": [],
   "source": [
    "center = None\n",
    "psfs = [psf]\n",
    "\n",
    "\n",
    "center = [psfs[0].shape[0]//2, psfs[0].shape[1]//2]\n",
    "x = np.arange(psfs[0].shape[1])\n",
    "y = np.arange(psfs[0].shape[0])\n",
    "x,y = np.meshgrid(x,y)\n",
    "x -= center[1]\n",
    "y -= center[0]\n",
    "coords = np.dstack([y,x])\n",
    "f = scarlet.transformations.LinearFilter(psf, coords)"
   ]
  },
  {
   "cell_type": "code",
   "execution_count": 64,
   "metadata": {
    "collapsed": true
   },
   "outputs": [],
   "source": [
    "test = np.zeros((31,21))\n",
    "test[10,6:15] = 0.5\n",
    "test[9:12,10] = 0.5\n",
    "test[10,10] = 1\n",
    "img = f.dot(test)"
   ]
  },
  {
   "cell_type": "code",
   "execution_count": 65,
   "metadata": {},
   "outputs": [
    {
     "name": "stdout",
     "output_type": "stream",
     "text": [
      "11 ms ± 100 µs per loop (mean ± std. dev. of 7 runs, 100 loops each)\n"
     ]
    }
   ],
   "source": [
    "%timeit f.dot(test)"
   ]
  },
  {
   "cell_type": "code",
   "execution_count": 66,
   "metadata": {},
   "outputs": [
    {
     "data": {
      "image/png": "[encoded data removed]",
      "text/plain": [
       "<matplotlib.figure.Figure at 0x118410860>"
      ]
     },
     "metadata": {},
     "output_type": "display_data"
    },
    {
     "data": {
      "image/png": "[encoded data removed]",
      "text/plain": [
       "<matplotlib.figure.Figure at 0x118d28e80>"
      ]
     },
     "metadata": {},
     "output_type": "display_data"
    }
   ],
   "source": [
    "plt.imshow(test)\n",
    "plt.show()\n",
    "plt.imshow(img)\n",
    "plt.show()"
   ]
  },
  {
   "cell_type": "code",
   "execution_count": 2,
   "metadata": {
    "collapsed": true
   },
   "outputs": [],
   "source": [
    "def get_filter_slices(coords):\n",
    "    \"\"\"Convert a list of relative coordinates to slices\n",
    "\n",
    "    A `LinearFilter` is defined by an image of weights\n",
    "    and a list of relative coordinates from the current pixels\n",
    "    for each weight.\n",
    "    This method converts those coordinates into slices that are\n",
    "    used to apply the filter.\n",
    "    \"\"\"\n",
    "    slices = []\n",
    "    inv_slices = []\n",
    "    for cy, cx in coords:\n",
    "        _slice = [slice(None),slice(None)]\n",
    "        _inv_slice = [slice(None),slice(None)]\n",
    "        if cy>0:\n",
    "            _slice[0] = slice(cy,None)\n",
    "            _inv_slice[0] = slice(None,-cy)\n",
    "        elif cy<0:\n",
    "            _slice[0] = slice(None,cy)\n",
    "            _inv_slice[0] = slice(-cy, None)\n",
    "        if cx>0:\n",
    "            _slice[1] = slice(cx,None)\n",
    "            _inv_slice[1] = slice(None,-cx)\n",
    "        elif cx<0:\n",
    "            _slice[1] = slice(None,cx)\n",
    "            _inv_slice[1] = slice(-cx, None)\n",
    "        slices.append(_slice)\n",
    "        inv_slices.append(_inv_slice)\n",
    "    return slices, inv_slices"
   ]
  },
  {
   "cell_type": "code",
   "execution_count": 46,
   "metadata": {
    "collapsed": true
   },
   "outputs": [],
   "source": [
    "def get_filter_masks(coords, shape):\n",
    "    r = get_filter_slices(coords)\n",
    "    slices, inv_slices = get_filter_slices(coords)\n",
    "    masks = []\n",
    "    inv_masks = []\n",
    "    for s, inv in zip(slices, inv_slices):\n",
    "        mask = np.zeros(shape, dtype=bool)\n",
    "        mask[s] = 1\n",
    "        masks.append(mask)\n",
    "        mask = np.zeros(shape, dtype=bool)\n",
    "        mask[inv] = 1\n",
    "        inv_masks.append(mask)\n",
    "    return masks, inv_masks"
   ]
  },
  {
   "cell_type": "code",
   "execution_count": 35,
   "metadata": {},
   "outputs": [
    {
     "data": {
      "text/plain": [
       "<module 'scarlet.transformations' from '/Users/fred/lsst/code/scarlet/scarlet/transformations.py'>"
      ]
     },
     "execution_count": 35,
     "metadata": {},
     "output_type": "execute_result"
    }
   ],
   "source": [
    "import imp\n",
    "imp.reload(scarlet)\n",
    "imp.reload(scarlet.transformations)"
   ]
  },
  {
   "cell_type": "code",
   "execution_count": 47,
   "metadata": {
    "collapsed": true
   },
   "outputs": [],
   "source": [
    "tx = scarlet.transformations.LinearTranslation(.25,.1)\n",
    "masks, inv_masks = get_filter_masks(tx.coords, (100,100))\n",
    "img = np.arange(1e4).reshape(100,100)"
   ]
  },
  {
   "cell_type": "code",
   "execution_count": 19,
   "metadata": {},
   "outputs": [
    {
     "name": "stdout",
     "output_type": "stream",
     "text": [
      "111 µs ± 2.7 µs per loop (mean ± std. dev. of 7 runs, 10000 loops each)\n"
     ]
    }
   ],
   "source": [
    "%timeit scarlet.transformations.apply_filter(img, tx.img.reshape(-1), tx.slices, tx.inv_slices)"
   ]
  },
  {
   "cell_type": "code",
   "execution_count": 48,
   "metadata": {
    "collapsed": true
   },
   "outputs": [],
   "source": [
    "def apply_filter(X, weights, masks, inv_masks):\n",
    "    assert len(masks) == len(inv_masks) == len(weights)\n",
    "    result = np.zeros(X.shape, dtype=X.dtype)\n",
    "    for n, weight in enumerate(weights):\n",
    "        result[masks[n]] += weight * X[inv_masks[n]]\n",
    "    return result.reshape(X.shape)"
   ]
  },
  {
   "cell_type": "code",
   "execution_count": 49,
   "metadata": {},
   "outputs": [
    {
     "name": "stdout",
     "output_type": "stream",
     "text": [
      "168 µs ± 703 ns per loop (mean ± std. dev. of 7 runs, 10000 loops each)\n"
     ]
    }
   ],
   "source": [
    "%timeit apply_filter(img, tx.img.reshape(-1), masks, inv_masks)"
   ]
  },
  {
   "cell_type": "code",
   "execution_count": 72,
   "metadata": {},
   "outputs": [
    {
     "name": "stdout",
     "output_type": "stream",
     "text": [
      "2.82 µs ± 59 ns per loop (mean ± std. dev. of 7 runs, 100000 loops each)\n",
      "3.87 µs ± 64.3 ns per loop (mean ± std. dev. of 7 runs, 100000 loops each)\n"
     ]
    }
   ],
   "source": [
    "shape = (100,100)\n",
    "idx = np.zeros(shape)\n",
    "%timeit np.zeros(shape)\n",
    "%timeit idx[:] = 0"
   ]
  },
  {
   "cell_type": "code",
   "execution_count": null,
   "metadata": {
    "collapsed": true
   },
   "outputs": [],
   "source": []
  }
 ],
 "metadata": {
  "kernelspec": {
   "display_name": "Python 3",
   "language": "python",
   "name": "python3"
  },
  "language_info": {
   "codemirror_mode": {
    "name": "ipython",
    "version": 3
   },
   "file_extension": ".py",
   "mimetype": "text/x-python",
   "name": "python",
   "nbconvert_exporter": "python",
   "pygments_lexer": "ipython3",
   "version": "3.6.2"
  }
 },
 "nbformat": 4,
 "nbformat_minor": 2
}
