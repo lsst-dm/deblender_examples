{
 "cells": [
  {
   "cell_type": "code",
   "execution_count": 1,
   "metadata": {
    "collapsed": true
   },
   "outputs": [],
   "source": [
    "# Import Packages and setup\n",
    "import os\n",
    "from collections import OrderedDict\n",
    "import logging\n",
    "import time\n",
    "\n",
    "import numpy as np\n",
    "\n",
    "from astropy.table import Table as ApTable\n",
    "\n",
    "import scarlet\n",
    "import scarlet.constraints as sc\n",
    "\n",
    "def deblend(images, filters, psfs, catalog, coords, bg_rms, sources, save_path, key):\n",
    "    blend = scarlet.blend.Blend(sources, images, bg_rms=bg_rms)\n",
    "    t1 = time.time()\n",
    "    blend.fit(200)\n",
    "    t2 = time.time()\n",
    "    #print(\"blend {0} took {1}s for {2} iterations\".format(idx, t2-t1, blend.it))\n",
    "    seds = []\n",
    "    morphs = []\n",
    "    coords = []\n",
    "    init_coords = []\n",
    "    for m,src in enumerate(blend.sources):\n",
    "        morphs.append(blend.get_model(m=m, combine=False, combine_source_components=True, use_sed=False)[0])\n",
    "        seds.append(src.sed[0])\n",
    "        coords.append(src.center)\n",
    "        init_coords.append(src._init_center)\n",
    "    result = ApTable([init_coords, coords, seds, morphs], names=(\"init_center\", \"coords\", \"sed\", \"morph\"))\n",
    "    result.meta[\"time\"] = t2-t1\n",
    "    result.meta[\"iter\"] = blend.it\n",
    "    filename = os.path.join(save_path, \"blend_{0}_{1}.fits\".format(idx, key))\n",
    "    #print(\"saving results to:\", filename)\n",
    "    result.write(filename, overwrite=True)"
   ]
  },
  {
   "cell_type": "code",
   "execution_count": 4,
   "metadata": {
    "scrolled": false
   },
   "outputs": [
    {
     "name": "stderr",
     "output_type": "stream",
     "text": [
      "WARNING:proxmin:Solution did not converge\n",
      "WARNING:proxmin:Solution did not converge\n",
      "WARNING:proxmin:Solution did not converge\n",
      "WARNING:proxmin:Solution did not converge\n",
      "WARNING:proxmin:Solution did not converge\n",
      "WARNING:proxmin:Solution did not converge\n",
      "WARNING:proxmin:Solution did not converge\n",
      "WARNING:proxmin:Solution did not converge\n",
      "WARNING:proxmin:Solution did not converge\n",
      "WARNING:proxmin:Solution did not converge\n",
      "WARNING:proxmin:Solution did not converge\n",
      "WARNING:proxmin:Solution did not converge\n",
      "WARNING:proxmin:Solution did not converge\n",
      "WARNING:proxmin:Solution did not converge\n",
      "WARNING:proxmin:Solution did not converge\n",
      "WARNING:proxmin:Solution did not converge\n",
      "WARNING:proxmin:Solution did not converge\n",
      "WARNING:proxmin:Solution did not converge\n",
      "WARNING:proxmin:Solution did not converge\n",
      "WARNING:proxmin:Solution did not converge\n",
      "WARNING:proxmin:Solution did not converge\n",
      "WARNING:proxmin:Solution did not converge\n",
      "WARNING:proxmin:Solution did not converge\n",
      "WARNING:proxmin:Solution did not converge\n",
      "WARNING:proxmin:Solution did not converge\n",
      "WARNING:proxmin:Solution did not converge\n",
      "WARNING:proxmin:Solution did not converge\n",
      "WARNING:proxmin:Solution did not converge\n",
      "WARNING:proxmin:Solution did not converge\n"
     ]
    },
    {
     "name": "stdout",
     "output_type": "stream",
     "text": [
      "OrderedDict()\n"
     ]
    }
   ],
   "source": [
    "data_path = \"/Users/fred/lsst/code/scarlet_paper/real_matched\"\n",
    "save_path = \"/Users/fred/temp/symmetry\"\n",
    "errors = OrderedDict()\n",
    "t0 = time.time()\n",
    "sigmas = [1, 0.9, 0.8, 0.7, 0.5, 0.3, 0.1, 0.05, 0.01, 0.001, 0.0001, 0]\n",
    "#sigmas = [1,0.8,0]\n",
    "keys = []\n",
    "for idx in range(100):\n",
    "    try:\n",
    "        data = np.load(os.path.join(data_path, 'images_{0}.npz'.format(idx)))\n",
    "        images = data[\"images\"]\n",
    "        filters = data[\"filters\"]\n",
    "        psfs = np.load(os.path.join(data_path, \"psfs.npz\"))[\"psfs\"]\n",
    "        catalog = ApTable.read(os.path.join(data_path, \"true_catalog_{0}.fits\".format(idx)))\n",
    "        bg_rms = [20 for _img in images]\n",
    "        coords =catalog['y','x']\n",
    "        \n",
    "        success = []\n",
    "        for sigma in sigmas:\n",
    "            if sigma > 0:\n",
    "                # Soft direct symmetry\n",
    "                constraint = (sc.DirectSymmetryConstraint(sigma=sigma)\n",
    "                              & sc.PositivityConstraint()\n",
    "                              & sc.DirectMonotonicityConstraint())\n",
    "                sources = [scarlet.source.ExtendedSource((src['y'],src['x']),images,bg_rms,\n",
    "                                                         constraints=constraint.copy()) for src in catalog]\n",
    "                key = \"soft-{0}\".format(sigma)\n",
    "                deblend(images, filters, psfs, catalog, coords, bg_rms, sources, save_path, key)\n",
    "                if key not in keys:\n",
    "                    keys.append(key)\n",
    "                success.append(key)\n",
    "\n",
    "                \"\"\"\n",
    "                # Smooth, convex symmetry\n",
    "                sources = [\n",
    "                    scarlet.source.ExtendedSource(\n",
    "                        (src['y'],src['x']),\n",
    "                        images,\n",
    "                        bg_rms,\n",
    "                        constraints=[\n",
    "                            sc.SmoothSymmetryConstraint(sigma=sigma)\n",
    "                            & sc.PositivityConstraint()\n",
    "                            & sc.DirectMonotonicityConstraint()\n",
    "                        ]) for src in catalog]\n",
    "                key = \"smooth-{0}\".format(sigma)\n",
    "                deblend(images, filters, psfs, catalog, coords, bg_rms, sources, save_path, key)\n",
    "                if key not in keys:\n",
    "                    keys.append(key)\"\"\"\n",
    "                \n",
    "            else:\n",
    "                # Use no symmetry constraint\n",
    "                constraint = sc.PositivityConstraint() & sc.DirectMonotonicityConstraint() \n",
    "                sources = [scarlet.source.ExtendedSource((src['y'],src['x']),images,bg_rms,\n",
    "                                constraints=constraint.copy()) for src in catalog]\n",
    "                key = \"none\"\n",
    "                deblend(images, filters, psfs, catalog, coords, bg_rms, sources, save_path, key)\n",
    "                if key not in keys:\n",
    "                    keys.append(key)\n",
    "                success.append(key)\n",
    "                # Use prox_g symmetry\n",
    "                \n",
    "                constraint = sc.SymmetryConstraint() & sc.PositivityConstraint() & sc.DirectMonotonicityConstraint() \n",
    "                sources = [scarlet.source.ExtendedSource((src['y'],src['x']),images,bg_rms,\n",
    "                                constraints=constraint.copy()) for src in catalog]\n",
    "                key = \"prox-g\"\n",
    "                deblend(images, filters, psfs, catalog, coords, bg_rms, sources, save_path, key)\n",
    "                if key not in keys:\n",
    "                    keys.append(key)\n",
    "                success.append(key)\n",
    "                \n",
    "    except Exception as e:\n",
    "        print(\"error in {0}, successful deblends: {1}\".format(idx, success))\n",
    "        errors[idx] = e.__repr__()\n",
    "\n",
    "np.save(os.path.join(save_path, \"keys.npy\"), keys)\n",
    "np.save(os.path.join(save_path, \"bg_rms.npy\"), bg_rms)\n",
    "print(errors)"
   ]
  },
  {
   "cell_type": "code",
   "execution_count": 5,
   "metadata": {},
   "outputs": [
    {
     "data": {
      "text/plain": [
       "OrderedDict()"
      ]
     },
     "execution_count": 5,
     "metadata": {},
     "output_type": "execute_result"
    }
   ],
   "source": [
    "errors"
   ]
  },
  {
   "cell_type": "code",
   "execution_count": null,
   "metadata": {
    "collapsed": true
   },
   "outputs": [],
   "source": []
  }
 ],
 "metadata": {
  "kernelspec": {
   "display_name": "Python 3",
   "language": "python",
   "name": "python3"
  },
  "language_info": {
   "codemirror_mode": {
    "name": "ipython",
    "version": 3
   },
   "file_extension": ".py",
   "mimetype": "text/x-python",
   "name": "python",
   "nbconvert_exporter": "python",
   "pygments_lexer": "ipython3",
   "version": "3.6.2"
  }
 },
 "nbformat": 4,
 "nbformat_minor": 2
}
