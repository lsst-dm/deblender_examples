{
 "cells": [
  {
   "cell_type": "code",
   "execution_count": 8,
   "metadata": {
    "collapsed": true
   },
   "outputs": [],
   "source": [
    "# Import Packages and setup\n",
    "from __future__ import print_function, division\n",
    "import os\n",
    "from collections import OrderedDict\n",
    "import logging\n",
    "\n",
    "import numpy as np\n",
    "\n",
    "%matplotlib inline\n",
    "import matplotlib\n",
    "import matplotlib.pyplot as plt\n",
    "# Make the plots look pretty\n",
    "matplotlib.rc('font',size=13)\n",
    "matplotlib.rc('legend', numpoints=1)\n",
    "matplotlib.rc('image', cmap='inferno')\n",
    "matplotlib.rc('image', interpolation='none')\n",
    "# Use the same color cylcer as Seaborn\n",
    "from cycler import cycler\n",
    "color_cycle = [u'#4c72b0', u'#55a868', u'#c44e52', u'#8172b2', u'#ccb974', u'#64b5cd']\n",
    "matplotlib.rcParams['axes.prop_cycle'] = cycler(\"color\", color_cycle)\n",
    "\n",
    "import lsst.afw.table as afwTable\n",
    "from lsst.utils import getPackageDir\n",
    "import lsst.log as log\n",
    "import lsst.meas.deblender\n",
    "from lsst.meas.deblender import proximal, display, sim, baseline\n",
    "import lsst.meas.deblender.utils as debUtils\n",
    "from lsst.afw.detection import Footprint\n",
    "\n",
    "logger = logging.getLogger(\"lsst.meas.deblender\")\n",
    "logger.setLevel(logging.INFO)\n",
    "log.setLevel(\"\", log.INFO)\n",
    "plogger = logging.getLogger(\"proxmin\")\n",
    "plogger.setLevel(logging.INFO)"
   ]
  },
  {
   "cell_type": "code",
   "execution_count": 9,
   "metadata": {
    "collapsed": true
   },
   "outputs": [],
   "source": [
    "import pickle\n",
    "expDb = pickle.load(open(\"/Users/fred/temp/expDb1.p\", \"rb\"))\n",
    "simCat, simTable = sim.loadSimCatalog(expDb.simCat)\n",
    "#expDb.simCat = simCat\n",
    "#expDb.simTable = simTable"
   ]
  },
  {
   "cell_type": "code",
   "execution_count": 10,
   "metadata": {},
   "outputs": [],
   "source": [
    "parent_indices = list(expDb.deblends['new'].keys())\n",
    "#sim.compareDeblendToSim(expDb.deblends[\"new\"][parent_indices[0]], expDb.mergedDet[0], simTable)"
   ]
  },
  {
   "cell_type": "code",
   "execution_count": 11,
   "metadata": {
    "collapsed": true
   },
   "outputs": [],
   "source": [
    "deblend = expDb.deblends[\"new\"][parent_indices[0]]\n",
    "avgNoise = sim.getNoise(expDb.calexps)\n",
    "peakTable = sim.buildFootprintPeakTable(deblend.footprint, deblend.filters, peaks=deblend.peaks)"
   ]
  },
  {
   "cell_type": "code",
   "execution_count": 9,
   "metadata": {
    "collapsed": true
   },
   "outputs": [],
   "source": [
    "def matchFootprintToRef(footprint, peakTable, simTable, filters, maxSeparation=3, poolSize=-1, avgNoise=None,\n",
    "                        display=True, calexp=None, bbox=None, expDb=None):\n",
    "    \"\"\"Match a peakTable for a single Footprint to a catalog\n",
    "\n",
    "    See ``matchToRef`` for a description of parameters, other than ``Footprint``, which is the\n",
    "    `lsst.afw.detection.Footprint` used to get the bounds for the simTable and return\n",
    "    sources not contained in the ``peakTable``, and ``expDb``, which is only needed to\n",
    "    to display the image (when ``display=True``).\n",
    "    \"\"\"\n",
    "    bbox = footprint.getBBox()\n",
    "    xmin = bbox.getMinX()\n",
    "    xmax = bbox.getMaxX()\n",
    "    ymin = bbox.getMinY()\n",
    "    ymax = bbox.getMaxY()\n",
    "\n",
    "    return\n",
    "    simCuts = (simTable[\"x\"]>=xmin)&(simTable[\"x\"]<=xmax) & (simTable[\"y\"]>=ymin) & (simTable[\"y\"]<=ymax)\n",
    "    logger.info(np.sum(simCuts))\n",
    "\n",
    "    if avgNoise is None:\n",
    "        logger.info(\"calculating avg noise\")\n",
    "        # Estimate the noise in the image\n",
    "        avgNoise = getNoise(expDb.calexps)\n",
    "    # Match the simulated data to the detected peaks\n",
    "    matchTable, idx, unmatchedTable = matchToRef(peakTable, simTable[simCuts], filters, display=False)\n",
    "\n",
    "    if display:\n",
    "        x = list(range(len(filters)))\n",
    "        for pk, src in enumerate(matchTable):\n",
    "            flux = np.array([np.max(src[\"intensity_{0}\".format(f)]) for f in filters])\n",
    "            plt.semilogy(x, flux, 'k.-', label=\"Detected\")\n",
    "        for src in unmatchedTable:\n",
    "            flux = np.array([np.max(src[\"intensity_{0}\".format(f)]) for f in filters])\n",
    "            plt.plot(x, flux, '.-', c=\"#4c72b0\", label=\"Not Detected\")\n",
    "        if avgNoise is not None:\n",
    "            plt.semilogy(x, avgNoise, '.-', c=\"#c44e52\", label=\"Background\")\n",
    "            plt.semilogy(x, 2*np.array(avgNoise), '.--', c=\"#c44e52\", label=\"2$\\\\times$Background\")\n",
    "        plt.legend(loc='center left', bbox_to_anchor=(1, .5),\n",
    "                   fancybox=True, shadow=True)\n",
    "        plt.xticks([-.25]+x+[x[-1]+.25], [\"\"]+[f for f in filters]+[\"\"])\n",
    "        plt.xlabel(\"Filter\")\n",
    "        plt.ylabel(\"Peak Flux\")\n",
    "        plt.show()\n",
    "\n",
    "        fig = plt.figure(figsize=(8,8))\n",
    "        ax = fig.add_subplot(1,1,1)\n",
    "        calexps = [calexp[footprint.getBBox()] for calexp in expDb.calexps]\n",
    "        ax = debDisplay.plotColorImage(calexps=calexps, ax=ax, show=False)\n",
    "        px = [src[\"x\"]-xmin for src in unmatchedTable]\n",
    "        py = [src[\"y\"]-ymin for src in unmatchedTable]\n",
    "        plt.plot(px, py, \"rx\", mew=2, label=\"Not detected peaks\")\n",
    "        px = [src[\"x\"]-xmin for src in matchTable]\n",
    "        py = [src[\"y\"]-ymin for src in matchTable]\n",
    "        ax.plot(px, py, \"cx\", mew=2, label=\"Detected peaks\")\n",
    "        plt.legend(loc=\"center left\", fancybox=True, shadow=True, ncol=1, bbox_to_anchor=(1, 0.5))\n",
    "        # Sometimes, if sources are near the edge, the plot extends beyond the image size\n",
    "        plt.xlim([0,footprint.getBBox().getWidth()-1])\n",
    "        plt.ylim([footprint.getBBox().getHeight()-1, 0])\n",
    "        plt.show()\n",
    "\n",
    "    return matchTable, idx, unmatchedTable"
   ]
  },
  {
   "cell_type": "code",
   "execution_count": null,
   "metadata": {},
   "outputs": [],
   "source": [
    "matchFootprintToRef(deblend.footprint, peakTable, simTable,\n",
    "                                     deblend.filters, avgNoise=avgNoise,display=False)"
   ]
  },
  {
   "cell_type": "code",
   "execution_count": null,
   "metadata": {},
   "outputs": [],
   "source": [
    "deblend.footprint.getBBox()"
   ]
  },
  {
   "cell_type": "code",
   "execution_count": null,
   "metadata": {},
   "outputs": [],
   "source": [
    "deblend.footprint.getPeaks()"
   ]
  },
  {
   "cell_type": "code",
   "execution_count": 7,
   "metadata": {},
   "outputs": [
    {
     "data": {
      "text/plain": [
       "['__class__',\n",
       " '__contains__',\n",
       " '__delattr__',\n",
       " '__dir__',\n",
       " '__doc__',\n",
       " '__eq__',\n",
       " '__format__',\n",
       " '__ge__',\n",
       " '__getattribute__',\n",
       " '__gt__',\n",
       " '__hash__',\n",
       " '__init__',\n",
       " '__le__',\n",
       " '__lt__',\n",
       " '__module__',\n",
       " '__ne__',\n",
       " '__new__',\n",
       " '__reduce__',\n",
       " '__reduce_ex__',\n",
       " '__repr__',\n",
       " '__setattr__',\n",
       " '__sizeof__',\n",
       " '__str__',\n",
       " '__subclasshook__',\n",
       " 'addPeak',\n",
       " 'assign',\n",
       " 'census',\n",
       " 'clipTo',\n",
       " 'contains',\n",
       " 'dilate',\n",
       " 'erode',\n",
       " 'getArea',\n",
       " 'getBBox',\n",
       " 'getCentroid',\n",
       " 'getId',\n",
       " 'getNextMemId',\n",
       " 'getPeaks',\n",
       " 'getRegion',\n",
       " 'getShape',\n",
       " 'getSpans',\n",
       " 'isContiguous',\n",
       " 'isHeavy',\n",
       " 'isPersistable',\n",
       " 'markPersistent',\n",
       " 'peaks',\n",
       " 'readFits',\n",
       " 'removeOrphanPeaks',\n",
       " 'repr',\n",
       " 'setDeleteCallbackId',\n",
       " 'setNewCallbackId',\n",
       " 'setPeakSchema',\n",
       " 'setRegion',\n",
       " 'setSpans',\n",
       " 'shift',\n",
       " 'sortPeaks',\n",
       " 'spans',\n",
       " 'split',\n",
       " 'transform',\n",
       " 'writeFits']"
      ]
     },
     "execution_count": 7,
     "metadata": {},
     "output_type": "execute_result"
    }
   ],
   "source": [
    "dir(deblend.footprint)"
   ]
  },
  {
   "cell_type": "code",
   "execution_count": null,
   "metadata": {
    "collapsed": true
   },
   "outputs": [],
   "source": []
  }
 ],
 "metadata": {
  "kernelspec": {
   "display_name": "Python 3",
   "language": "python",
   "name": "python3"
  },
  "language_info": {
   "codemirror_mode": {
    "name": "ipython",
    "version": 3
   },
   "file_extension": ".py",
   "mimetype": "text/x-python",
   "name": "python",
   "nbconvert_exporter": "python",
   "pygments_lexer": "ipython3",
   "version": "3.5.3"
  }
 },
 "nbformat": 4,
 "nbformat_minor": 2
}
