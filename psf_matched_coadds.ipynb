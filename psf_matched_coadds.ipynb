{
 "cells": [
  {
   "cell_type": "markdown",
   "metadata": {},
   "source": [
    "# ci-hsc Test\n",
    "\n",
    "This notebook implements the commands in [DMTN-023](https://dmtn-023.lsst.io), modified to use PSF matched co-adds, on the ci_hsc repo to build images and catalogs to deblend"
   ]
  },
  {
   "cell_type": "markdown",
   "metadata": {},
   "source": [
    "# Python Imports and initialization"
   ]
  },
  {
   "cell_type": "code",
   "execution_count": null,
   "metadata": {
    "collapsed": true
   },
   "outputs": [],
   "source": [
    "export CI_HSC_DIR=$LSST/code/ci_hsc\n",
    "mkdir test_data\n",
    "echo \"lsst.obs.hsc.HscMapper\" > test_data/_mapper\n",
    "ingestImages.py test_data $CI_HSC_DIR/raw/*.fits --mode=link\n",
    "cd test_data\n",
    "ln -s $CI_HSC_DIR/CALIB .\n",
    "mkdir ref_cats\n",
    "cd ref_cats\n",
    "ln -s $CI_HSC_DIR/ps1_pv3_3pi_20170110 ."
   ]
  },
  {
   "cell_type": "markdown",
   "metadata": {},
   "source": [
    "## Exposure Processing"
   ]
  },
  {
   "cell_type": "code",
   "execution_count": null,
   "metadata": {
    "collapsed": true
   },
   "outputs": [],
   "source": [
    "singleFrameDriver.py $LSST/test_data --rerun example1 \\\n",
    "  --cores=4 --id visit=903334..903338:2 --id visit=903342..903346:2 \\\n",
    "  --id visit=903986..903990:2 --id visit=904010^904014"
   ]
  },
  {
   "cell_type": "markdown",
   "metadata": {},
   "source": [
    "# Create Skymap\n",
    "\n",
    "Make a skymap of a single tract for a single pointing"
   ]
  },
  {
   "cell_type": "code",
   "execution_count": null,
   "metadata": {
    "collapsed": true
   },
   "outputs": [],
   "source": [
    "makeDiscreteSkyMap.py $LSST/test_data --rerun example1:example2 \\\n",
    "  --id visit=903334..903338:2 --id visit=903342..903346:2 \\\n",
    "  --id visit=903986..903990:2 --id visit=904010^904014 \\\n",
    "  --config skyMap.projection=\"TAN\""
   ]
  },
  {
   "cell_type": "markdown",
   "metadata": {},
   "source": [
    "# Find the FWHM of the desired PSF\n",
    "\n",
    "Use the worst PSF in all of the coadds and use it's FWHM, then create a config file"
   ]
  },
  {
   "cell_type": "code",
   "execution_count": 106,
   "metadata": {
    "collapsed": true
   },
   "outputs": [],
   "source": [
    "import os\n",
    "from lsst.daf.persistence import Butler\n",
    "\n",
    "WORK_DIR = os.path.join(\"/tigress\", \"fred\", \"lsst\", \"test_data\")\n",
    "butler = Butler(inputs=os.path.join(WORK_DIR, \"rerun/example1\"))"
   ]
  },
  {
   "cell_type": "code",
   "execution_count": 109,
   "metadata": {
    "collapsed": false
   },
   "outputs": [
    {
     "name": "stdout",
     "output_type": "stream",
     "text": [
      "Matching codds with fwhm=8.04\n"
     ]
    }
   ],
   "source": [
    "fwhm = 0\n",
    "for B in [\"I\", \"R\"]:\n",
    "    visits = butler.queryMetadata('raw', ['visit'], dataId={'filter':'HSC-'+B})\n",
    "    for visit in visits:\n",
    "        #print(visit)\n",
    "        ccd = None\n",
    "        for n in range(117):\n",
    "            if butler.datasetExists('calexp', dataId={'visit':visit, 'ccd': n}):\n",
    "                ccd = n\n",
    "                exposure = butler.get(\"calexp\", visit=visit, ccd=ccd)\n",
    "                _fwhm = exposure.getPsf().computeShape().getDeterminantRadius()*FwhmPerSigma\n",
    "                #print(\"ccd {0} fwhm: {1:.2f}\".format(ccd, _fwhm))\n",
    "        if _fwhm > fwhm:\n",
    "            fwhm = _fwhm\n",
    "print(\"Matching codds with fwhm={0:.2f}\".format(fwhm))\n",
    "config_contents = \"\\n\".join([\"config.makeCoaddTempExp.makePsfMatched=True\",\n",
    "                            \"config.makeCoaddTempExp.modelPsf.defaultFwhm={0:.2f}\".format(fwhm),\n",
    "                            \"config.makeCoaddTempExp.doApplyUberCal=False\",\n",
    "                            \"config.assembleCoadd.doApplyUberCal=False\"])\n",
    "with open(os.path.join(WORK_DIR, \"config.txt\"), 'w') as f:\n",
    "    f.write(config_contents)"
   ]
  },
  {
   "cell_type": "markdown",
   "metadata": {},
   "source": [
    "# Create Coadds\n",
    "\n"
   ]
  },
  {
   "cell_type": "markdown",
   "metadata": {},
   "source": [
    "### Run coaddDriver on a single patch (in each filter)\n",
    "Note that these are the same as the scripts from DMTN-023 with the notable exception that we have removed the `--config` options and added a `configfile` option to point to the config file we just created, which makes the coadds PSF homogenized.\n",
    "\n",
    "We perform the coadd on a single image first so that we can check that the psf matching works as expected, otherwise see [the documentation](https://github.com/lsst/pipe_tasks/blob/master/python/lsst/pipe/tasks/makeCoaddTempExp.py#L145-L203) for a guide to troubleshooting PSF coaddition and modify the previous cell to update the config parameters as needed"
   ]
  },
  {
   "cell_type": "code",
   "execution_count": null,
   "metadata": {
    "collapsed": true
   },
   "outputs": [],
   "source": [
    "coaddDriver.py $LSST/test_data --rerun example1:example2 \\\n",
    "  --selectId visit=903334..903338:2 --selectId visit=903342..903346:2 \\\n",
    "  --id tract=0 patch=1,1 filter=HSC-R --cores=8 \\\n",
    "  --configfile=$LSST/test_data/config.txt\n",
    "coaddDriver.py $LSST/test_data --rerun example1:example2 \\\n",
    "  --selectId visit=903986..903990:2 --selectId visit=904010^904014 \\\n",
    "  --id tract=0 patch=1,1 filter=HSC-I --cores=8 \\\n",
    "  --configfile=$LSST/test_data/config.txt"
   ]
  },
  {
   "cell_type": "markdown",
   "metadata": {},
   "source": [
    "### Once you have verified PSF matching is working properly, run the following scripts on the remaining patches"
   ]
  },
  {
   "cell_type": "code",
   "execution_count": null,
   "metadata": {
    "collapsed": true
   },
   "outputs": [],
   "source": [
    "coaddDriver.py $LSST/test_data --rerun example1:example2 \\\n",
    "  --selectId visit=903334..903338:2 --selectId visit=903342..903346:2 \\\n",
    "  --id tract=0 patch=0,0^0,1^0,2^1,0^1,1^1,2^2,0^2,1^2,2 filter=HSC-R \\\n",
    "  --cores=8 --configfile $LSST/test_data/config.txt\n",
    "coaddDriver.py $LSST/test_data --rerun example1:example2 \\\n",
    "  --selectId visit=903986..903990:2 --selectId visit=904010^904014 \\\n",
    "  --id tract=0 patch=0,0^0,1^0,2^1,0^1,1^1,2^2,0^2,1^2,2 filter=HSC-I \\\n",
    "  --cores=8 --configfile $LSST/test_data/config.txt"
   ]
  },
  {
   "cell_type": "markdown",
   "metadata": {},
   "source": [
    "### Now we merge the catalogs on the PSF Matched Co-Adds"
   ]
  },
  {
   "cell_type": "code",
   "execution_count": null,
   "metadata": {
    "collapsed": true
   },
   "outputs": [],
   "source": [
    "mergeCoaddDetections.py $LSST/test_data --id patch=1,1 tract=0 filter=HSC-I^HSC-R --rerun example2:example3"
   ]
  }
 ],
 "metadata": {
  "kernelspec": {
   "display_name": "Python 2",
   "language": "python",
   "name": "python2"
  },
  "language_info": {
   "codemirror_mode": {
    "name": "ipython",
    "version": 2
   },
   "file_extension": ".py",
   "mimetype": "text/x-python",
   "name": "python",
   "nbconvert_exporter": "python",
   "pygments_lexer": "ipython2",
   "version": "2.7.12"
  }
 },
 "nbformat": 4,
 "nbformat_minor": 2
}
